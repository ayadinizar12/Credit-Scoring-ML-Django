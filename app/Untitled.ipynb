{
 "cells": [
  {
   "cell_type": "code",
   "execution_count": 3,
   "metadata": {},
   "outputs": [
    {
     "name": "stdout",
     "output_type": "stream",
     "text": [
      "   Unnamed: 0  cptesFourAchats_A_1  cptesFourAchats_A_2  cptesFourAchats_A_3  \\\n",
      "0           0           335.062878           329.940319           312.017053   \n",
      "1           1            69.270073            30.115512            41.847134   \n",
      "2           2           111.251856           157.137735           121.133625   \n",
      "3           3           307.902047           421.526549           425.493386   \n",
      "4           4           391.178095           382.675911           265.136114   \n",
      "\n",
      "   cptesClientsCa_A_1  cptesClientsCa_A_2  cptesClientsCa_A_3   bfrca_A_1  \\\n",
      "0           66.838598           74.790814           86.960599  -47.172324   \n",
      "1            0.000000           35.187908            0.000000 -139.215480   \n",
      "2           51.280992           35.248195           39.313332   27.316345   \n",
      "3           31.261131           38.301390            3.950216  304.345653   \n",
      "4          138.327890          176.103185          174.822481  124.533419   \n",
      "\n",
      "    bfrca_A_2   bfrca_A_3  ...  ratioFfCa_A_3  ratioDettesFinCTca_A_3  \\\n",
      "0  -47.627163  -19.839018  ...       0.074267               37.539803   \n",
      "1 -162.722238 -210.043246  ...       0.083319              243.127890   \n",
      "2   19.600632   24.192819  ...       0.002511               14.845594   \n",
      "3   84.647820 -210.043246  ...       0.004329                0.000000   \n",
      "4  170.222605  218.344721  ...       0.072347              243.127890   \n",
      "\n",
      "          A         B          C  ratioEbeTotalActif_var_A1         D  \\\n",
      "0  2.238168  0.918013   1.744555                   0.103429  0.006818   \n",
      "1  0.623942 -9.414545 -12.257493                   0.171706 -0.012515   \n",
      "2  5.014330  5.463433   9.140339                   0.059912  0.004712   \n",
      "3 -4.419148  1.869375  -0.029006                   0.041265  0.000892   \n",
      "4  8.695850 -2.512344  -1.784409                   0.138241 -0.024668   \n",
      "\n",
      "          E    scoring  default_val  \n",
      "0  1.178903  10.911046            1  \n",
      "1 -1.369564 -54.258433            0  \n",
      "2  3.730169  47.562117            1  \n",
      "3  1.561511  -1.219525            0  \n",
      "4 -0.970002   0.044387            0  \n",
      "\n",
      "[5 rows x 154 columns]\n"
     ]
    },
    {
     "data": {
      "text/plain": [
       "['final_model.sav']"
      ]
     },
     "execution_count": 3,
     "metadata": {},
     "output_type": "execute_result"
    }
   ],
   "source": [
    "import pandas as pd\n",
    "import numpy as np\n",
    "import sklearn\n",
    "from sklearn.tree import DecisionTreeClassifier\n",
    "from sklearn.model_selection import train_test_split\n",
    "\n",
    "\n",
    "import warnings\n",
    "warnings.filterwarnings('ignore')\n",
    "\n",
    "df=pd.read_excel('final_data.xlsx')\n",
    "\n",
    "#df.drop('Unnamed: 0',axis=1,inplace=True)\n",
    "\n",
    "import pandas as pd\n",
    "\n",
    "\n",
    "liste=['A','B','C','D','E']\n",
    "\n",
    "for i in range(0,len(liste)):\n",
    "\n",
    "    m = df.loc[df[liste[i]] != np.inf, liste[i] ].max()\n",
    "    df[liste[i]].replace(np.inf,m,inplace=True)\n",
    "\n",
    "for i in range(0,len(liste)):\n",
    "\n",
    "    n = df.loc[df[liste[i]] != -np.inf, liste[i] ].min()\n",
    "    df[liste[i]].replace(-np.inf,n,inplace=True)\n",
    "\n",
    "#function to clean dataset\n",
    "def clean_dataset(df):\n",
    "    assert isinstance(df, pd.DataFrame), \"df needs to be a pd.DataFrame\"\n",
    "    df.dropna(inplace=True)\n",
    "    indices_to_keep = ~df.isin([np.nan, np.inf, -np.inf]).any(1)\n",
    "    return df[indices_to_keep].astype(np.float64)\n",
    "\n",
    "\n",
    "#clean dataset\n",
    "clean_dataset(df)\n",
    "\n",
    "\n",
    "#sampling\n",
    "Bankrupt_companies_number=len(df[df['default_val'] == 0])\n",
    "Bankrupt_companies=(df[df['default_val'] == 0])\n",
    "Non_Bankrupt_companies=(df[df['default_val'] == 1]).sample(n=Bankrupt_companies_number ,replace=True)\n",
    "Final_Sampled_Data_BayesianRidge = Bankrupt_companies.append(Non_Bankrupt_companies)\n",
    "\n",
    "\n",
    "\n",
    "\n",
    "print(df.head())\n",
    "#features and target \n",
    "x = Final_Sampled_Data_BayesianRidge[['A','B','C','D','E']]\n",
    "y = Final_Sampled_Data_BayesianRidge['default_val']\n",
    "x_train,x_test,y_train,y_test=train_test_split(x,y,test_size=.3,random_state=10)\n",
    "\n",
    "\n",
    "#Preparing Random Forest Classifie\n",
    "\n",
    "ET_Model=DecisionTreeClassifier(min_samples_leaf= 4, max_depth= 1, criterion= 'entropy', ccp_alpha= 0.006956521739130438)\n",
    "\n",
    "\n",
    "#Create a Gaussian Classifier\n",
    "\n",
    "\n",
    "ET_Model.fit(x_train,y_train)\n",
    "\n",
    "\n",
    "y_predict=ET_Model.predict(x_test)\n",
    "\n",
    "\n",
    "import joblib\n",
    "filename='final_model.sav'\n",
    "joblib.dump(ET_Model,filename)"
   ]
  }
 ],
 "metadata": {
  "kernelspec": {
   "display_name": "Python 3.10.6 64-bit",
   "language": "python",
   "name": "python3"
  },
  "language_info": {
   "codemirror_mode": {
    "name": "ipython",
    "version": 3
   },
   "file_extension": ".py",
   "mimetype": "text/x-python",
   "name": "python",
   "nbconvert_exporter": "python",
   "pygments_lexer": "ipython3",
   "version": "3.10.6"
  },
  "vscode": {
   "interpreter": {
    "hash": "d12f9eb7b44e93f6deb401b8ca4f9397fcdfcfe2b25bee3ccaf1c6a29a6ea3e6"
   }
  }
 },
 "nbformat": 4,
 "nbformat_minor": 4
}
